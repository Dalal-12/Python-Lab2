{
 "cells": [
  {
   "cell_type": "code",
   "execution_count": null,
   "id": "0131bbc1",
   "metadata": {},
   "outputs": [],
   "source": [
    "movie_name=input(\"Enter the movie\") \n",
    "movie_rating=3\n",
    "popularity=72.65\n",
    "if movie_rating >= 4 and popularity > 80 :\n",
    "    print (\"Highly Recommended\")\n",
    "elif movie_rating >= 3 and popularity > 70 :\n",
    "    print (\"I Recommended it, It is Good\")\n",
    "elif movie_rating <= 2 :\n",
    "    if popularity > 60 :\n",
    "        print(\"You should check it out\") \n",
    "    else: print(\"Don't watch it it waste of time\")"
   ]
  }
 ],
 "metadata": {
  "kernelspec": {
   "display_name": "Python 3 (ipykernel)",
   "language": "python",
   "name": "python3"
  },
  "language_info": {
   "codemirror_mode": {
    "name": "ipython",
    "version": 3
   },
   "file_extension": ".py",
   "mimetype": "text/x-python",
   "name": "python",
   "nbconvert_exporter": "python",
   "pygments_lexer": "ipython3",
   "version": "3.11.4"
  }
 },
 "nbformat": 4,
 "nbformat_minor": 5
}
